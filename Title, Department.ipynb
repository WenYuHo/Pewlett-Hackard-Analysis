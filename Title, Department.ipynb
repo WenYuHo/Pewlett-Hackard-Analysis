{
 "cells": [
  {
   "cell_type": "code",
   "execution_count": 86,
   "metadata": {},
   "outputs": [],
   "source": [
    "import pandas as pd\n",
    "import matplotlib.pyplot as plt"
   ]
  },
  {
   "cell_type": "code",
   "execution_count": 61,
   "metadata": {},
   "outputs": [],
   "source": [
    "unique_titles = pd.read_csv(\"unique_titles.csv\")\n",
    "mentorship_eligibility = pd.read_csv(\"mentorship_eligibility.csv\")\n",
    "retiring_titles = pd.read_csv(\"retiring_titles.csv\", index_col=\"title\")\n",
    "mentorship_per_department = pd.read_csv(\"mentorship_per_department.csv\")\n",
    "retiring_per_department = pd.read_csv(\"retiring_per_department.csv\")"
   ]
  },
  {
   "cell_type": "code",
   "execution_count": 4,
   "metadata": {},
   "outputs": [
    {
     "data": {
      "text/html": [
       "<div>\n",
       "<style scoped>\n",
       "    .dataframe tbody tr th:only-of-type {\n",
       "        vertical-align: middle;\n",
       "    }\n",
       "\n",
       "    .dataframe tbody tr th {\n",
       "        vertical-align: top;\n",
       "    }\n",
       "\n",
       "    .dataframe thead th {\n",
       "        text-align: right;\n",
       "    }\n",
       "</style>\n",
       "<table border=\"1\" class=\"dataframe\">\n",
       "  <thead>\n",
       "    <tr style=\"text-align: right;\">\n",
       "      <th></th>\n",
       "      <th>emp_no</th>\n",
       "      <th>first_name</th>\n",
       "      <th>last_name</th>\n",
       "      <th>title</th>\n",
       "    </tr>\n",
       "  </thead>\n",
       "  <tbody>\n",
       "    <tr>\n",
       "      <th>0</th>\n",
       "      <td>10001</td>\n",
       "      <td>Georgi</td>\n",
       "      <td>Facello</td>\n",
       "      <td>Senior Engineer</td>\n",
       "    </tr>\n",
       "    <tr>\n",
       "      <th>1</th>\n",
       "      <td>10004</td>\n",
       "      <td>Chirstian</td>\n",
       "      <td>Koblick</td>\n",
       "      <td>Senior Engineer</td>\n",
       "    </tr>\n",
       "    <tr>\n",
       "      <th>2</th>\n",
       "      <td>10005</td>\n",
       "      <td>Kyoichi</td>\n",
       "      <td>Maliniak</td>\n",
       "      <td>Senior Staff</td>\n",
       "    </tr>\n",
       "    <tr>\n",
       "      <th>3</th>\n",
       "      <td>10006</td>\n",
       "      <td>Anneke</td>\n",
       "      <td>Preusig</td>\n",
       "      <td>Senior Engineer</td>\n",
       "    </tr>\n",
       "    <tr>\n",
       "      <th>4</th>\n",
       "      <td>10009</td>\n",
       "      <td>Sumant</td>\n",
       "      <td>Peac</td>\n",
       "      <td>Senior Engineer</td>\n",
       "    </tr>\n",
       "  </tbody>\n",
       "</table>\n",
       "</div>"
      ],
      "text/plain": [
       "   emp_no first_name last_name            title\n",
       "0   10001     Georgi   Facello  Senior Engineer\n",
       "1   10004  Chirstian   Koblick  Senior Engineer\n",
       "2   10005    Kyoichi  Maliniak     Senior Staff\n",
       "3   10006     Anneke   Preusig  Senior Engineer\n",
       "4   10009     Sumant      Peac  Senior Engineer"
      ]
     },
     "execution_count": 4,
     "metadata": {},
     "output_type": "execute_result"
    }
   ],
   "source": [
    "unique_titles.head()"
   ]
  },
  {
   "cell_type": "code",
   "execution_count": 5,
   "metadata": {},
   "outputs": [
    {
     "data": {
      "text/html": [
       "<div>\n",
       "<style scoped>\n",
       "    .dataframe tbody tr th:only-of-type {\n",
       "        vertical-align: middle;\n",
       "    }\n",
       "\n",
       "    .dataframe tbody tr th {\n",
       "        vertical-align: top;\n",
       "    }\n",
       "\n",
       "    .dataframe thead th {\n",
       "        text-align: right;\n",
       "    }\n",
       "</style>\n",
       "<table border=\"1\" class=\"dataframe\">\n",
       "  <thead>\n",
       "    <tr style=\"text-align: right;\">\n",
       "      <th></th>\n",
       "      <th>emp_no</th>\n",
       "      <th>first_name</th>\n",
       "      <th>last_name</th>\n",
       "      <th>birth_date</th>\n",
       "      <th>from_date</th>\n",
       "      <th>to_date</th>\n",
       "      <th>title</th>\n",
       "    </tr>\n",
       "  </thead>\n",
       "  <tbody>\n",
       "    <tr>\n",
       "      <th>0</th>\n",
       "      <td>10095</td>\n",
       "      <td>Hilari</td>\n",
       "      <td>Morton</td>\n",
       "      <td>1965-01-03</td>\n",
       "      <td>1994-03-10</td>\n",
       "      <td>9999-01-01</td>\n",
       "      <td>Staff</td>\n",
       "    </tr>\n",
       "    <tr>\n",
       "      <th>1</th>\n",
       "      <td>10122</td>\n",
       "      <td>Ohad</td>\n",
       "      <td>Esposito</td>\n",
       "      <td>1965-01-19</td>\n",
       "      <td>1998-08-06</td>\n",
       "      <td>9999-01-01</td>\n",
       "      <td>Technique Leader</td>\n",
       "    </tr>\n",
       "    <tr>\n",
       "      <th>2</th>\n",
       "      <td>10291</td>\n",
       "      <td>Dipayan</td>\n",
       "      <td>Seghrouchni</td>\n",
       "      <td>1965-01-23</td>\n",
       "      <td>1987-03-30</td>\n",
       "      <td>9999-01-01</td>\n",
       "      <td>Senior Staff</td>\n",
       "    </tr>\n",
       "    <tr>\n",
       "      <th>3</th>\n",
       "      <td>10476</td>\n",
       "      <td>Kokou</td>\n",
       "      <td>Iisaka</td>\n",
       "      <td>1965-01-01</td>\n",
       "      <td>1987-09-20</td>\n",
       "      <td>9999-01-01</td>\n",
       "      <td>Senior Staff</td>\n",
       "    </tr>\n",
       "    <tr>\n",
       "      <th>4</th>\n",
       "      <td>10663</td>\n",
       "      <td>Teunis</td>\n",
       "      <td>Noriega</td>\n",
       "      <td>1965-01-09</td>\n",
       "      <td>1999-02-12</td>\n",
       "      <td>9999-01-01</td>\n",
       "      <td>Technique Leader</td>\n",
       "    </tr>\n",
       "  </tbody>\n",
       "</table>\n",
       "</div>"
      ],
      "text/plain": [
       "   emp_no first_name    last_name  birth_date   from_date     to_date  \\\n",
       "0   10095     Hilari       Morton  1965-01-03  1994-03-10  9999-01-01   \n",
       "1   10122       Ohad     Esposito  1965-01-19  1998-08-06  9999-01-01   \n",
       "2   10291    Dipayan  Seghrouchni  1965-01-23  1987-03-30  9999-01-01   \n",
       "3   10476      Kokou       Iisaka  1965-01-01  1987-09-20  9999-01-01   \n",
       "4   10663     Teunis      Noriega  1965-01-09  1999-02-12  9999-01-01   \n",
       "\n",
       "              title  \n",
       "0             Staff  \n",
       "1  Technique Leader  \n",
       "2      Senior Staff  \n",
       "3      Senior Staff  \n",
       "4  Technique Leader  "
      ]
     },
     "execution_count": 5,
     "metadata": {},
     "output_type": "execute_result"
    }
   ],
   "source": [
    "mentorship_eligibility.head()"
   ]
  },
  {
   "cell_type": "code",
   "execution_count": 63,
   "metadata": {
    "scrolled": true
   },
   "outputs": [
    {
     "name": "stdout",
     "output_type": "stream",
     "text": [
      "Total retiring: 90398\n"
     ]
    },
    {
     "data": {
      "text/html": [
       "<div>\n",
       "<style scoped>\n",
       "    .dataframe tbody tr th:only-of-type {\n",
       "        vertical-align: middle;\n",
       "    }\n",
       "\n",
       "    .dataframe tbody tr th {\n",
       "        vertical-align: top;\n",
       "    }\n",
       "\n",
       "    .dataframe thead th {\n",
       "        text-align: right;\n",
       "    }\n",
       "</style>\n",
       "<table border=\"1\" class=\"dataframe\">\n",
       "  <thead>\n",
       "    <tr style=\"text-align: right;\">\n",
       "      <th></th>\n",
       "      <th>count</th>\n",
       "      <th>percentage</th>\n",
       "    </tr>\n",
       "    <tr>\n",
       "      <th>title</th>\n",
       "      <th></th>\n",
       "      <th></th>\n",
       "    </tr>\n",
       "  </thead>\n",
       "  <tbody>\n",
       "    <tr>\n",
       "      <th>Senior Engineer</th>\n",
       "      <td>29414</td>\n",
       "      <td>0.325383</td>\n",
       "    </tr>\n",
       "    <tr>\n",
       "      <th>Senior Staff</th>\n",
       "      <td>28254</td>\n",
       "      <td>0.312551</td>\n",
       "    </tr>\n",
       "    <tr>\n",
       "      <th>Engineer</th>\n",
       "      <td>14222</td>\n",
       "      <td>0.157326</td>\n",
       "    </tr>\n",
       "    <tr>\n",
       "      <th>Staff</th>\n",
       "      <td>12243</td>\n",
       "      <td>0.135434</td>\n",
       "    </tr>\n",
       "    <tr>\n",
       "      <th>Technique Leader</th>\n",
       "      <td>4502</td>\n",
       "      <td>0.049802</td>\n",
       "    </tr>\n",
       "    <tr>\n",
       "      <th>Assistant Engineer</th>\n",
       "      <td>1761</td>\n",
       "      <td>0.019481</td>\n",
       "    </tr>\n",
       "    <tr>\n",
       "      <th>Manager</th>\n",
       "      <td>2</td>\n",
       "      <td>0.000022</td>\n",
       "    </tr>\n",
       "  </tbody>\n",
       "</table>\n",
       "</div>"
      ],
      "text/plain": [
       "                    count  percentage\n",
       "title                                \n",
       "Senior Engineer     29414    0.325383\n",
       "Senior Staff        28254    0.312551\n",
       "Engineer            14222    0.157326\n",
       "Staff               12243    0.135434\n",
       "Technique Leader     4502    0.049802\n",
       "Assistant Engineer   1761    0.019481\n",
       "Manager                 2    0.000022"
      ]
     },
     "execution_count": 63,
     "metadata": {},
     "output_type": "execute_result"
    }
   ],
   "source": [
    "total_retiring = retiring_titles[\"count\"].sum()\n",
    "print(f\"Total retiring: {total_retiring}\")\n",
    "retiring_titles[\"percentage\"] = retiring_titles[\"count\"] / total_retiring\n",
    "retiring_titles\n",
    "##retire_list.groupby(\"title\")[\"emp_no\"].count().sort_values(ascending=False)"
   ]
  },
  {
   "cell_type": "code",
   "execution_count": 109,
   "metadata": {},
   "outputs": [
    {
     "data": {
      "text/plain": [
       "Text(0.5, 1.0, 'Retiring Count Per Title')"
      ]
     },
     "execution_count": 109,
     "metadata": {},
     "output_type": "execute_result"
    },
    {
     "data": {
      "image/png": "[encoded data removed]",
      "text/plain": [
       "<Figure size 720x576 with 1 Axes>"
      ]
     },
     "metadata": {
      "needs_background": "light"
     },
     "output_type": "display_data"
    }
   ],
   "source": [
    "retiring_titles[\"count\"].plot(kind=\"bar\", rot = 45, figsize=(10,8))\n",
    "plt.title(\"Retiring Count Per Title\")"
   ]
  },
  {
   "cell_type": "code",
   "execution_count": 36,
   "metadata": {},
   "outputs": [],
   "source": [
    "potential_new_leaders = mentorship_eligibility.shape[0]"
   ]
  },
  {
   "cell_type": "code",
   "execution_count": 111,
   "metadata": {},
   "outputs": [
    {
     "name": "stdout",
     "output_type": "stream",
     "text": [
      "Mentorships Elgible: 1549\n"
     ]
    },
    {
     "data": {
      "image/png": "[encoded data removed]",
      "text/plain": [
       "<Figure size 720x576 with 1 Axes>"
      ]
     },
     "metadata": {
      "needs_background": "light"
     },
     "output_type": "display_data"
    }
   ],
   "source": [
    "##total_next_leaders = mentorship_eligibility.groupby(\"title\")[\"emp_no\"].count().sum()\n",
    "potential_new_leaders = mentorship_eligibility.shape[0]\n",
    "print(f\"Mentorships Elgible: {potential_new_leaders}\")\n",
    "mentorship_eligibility.groupby(\"title\")[\"emp_no\"].count().sort_values(ascending=False).plot(kind=\"bar\", rot = 45, figsize=(10,8))\n",
    "plt.title(\"Current Staffs Ready to Receive Mentorships\")\n",
    "plt.savefig(\"Current Staffs Ready to Receive Mentorships\")\n"
   ]
  },
  {
   "cell_type": "markdown",
   "metadata": {},
   "source": [
    "## Per Department"
   ]
  },
  {
   "cell_type": "code",
   "execution_count": 89,
   "metadata": {},
   "outputs": [
    {
     "data": {
      "text/html": [
       "<div>\n",
       "<style scoped>\n",
       "    .dataframe tbody tr th:only-of-type {\n",
       "        vertical-align: middle;\n",
       "    }\n",
       "\n",
       "    .dataframe tbody tr th {\n",
       "        vertical-align: top;\n",
       "    }\n",
       "\n",
       "    .dataframe thead th {\n",
       "        text-align: right;\n",
       "    }\n",
       "</style>\n",
       "<table border=\"1\" class=\"dataframe\">\n",
       "  <thead>\n",
       "    <tr style=\"text-align: right;\">\n",
       "      <th></th>\n",
       "      <th>dept_name</th>\n",
       "      <th>count_retiring</th>\n",
       "      <th>count_mentor</th>\n",
       "    </tr>\n",
       "  </thead>\n",
       "  <tbody>\n",
       "    <tr>\n",
       "      <th>0</th>\n",
       "      <td>Customer Service</td>\n",
       "      <td>2597</td>\n",
       "      <td>128</td>\n",
       "    </tr>\n",
       "  </tbody>\n",
       "</table>\n",
       "</div>"
      ],
      "text/plain": [
       "          dept_name  count_retiring  count_mentor\n",
       "0  Customer Service            2597           128"
      ]
     },
     "execution_count": 89,
     "metadata": {},
     "output_type": "execute_result"
    }
   ],
   "source": [
    "department.head(1)"
   ]
  },
  {
   "cell_type": "code",
   "execution_count": 108,
   "metadata": {},
   "outputs": [
    {
     "data": {
      "image/png": "[encoded data removed]",
      "text/plain": [
       "<Figure size 1080x720 with 1 Axes>"
      ]
     },
     "metadata": {
      "needs_background": "light"
     },
     "output_type": "display_data"
    }
   ],
   "source": [
    "department = pd.merge(retiring_per_department, mentorship_per_department, on=\"dept_name\", suffixes=(\"_retiring\",\"_mentor\"))\n",
    "\n",
    "fig, ax = plt.subplots(figsize=(15,10))\n",
    "ax.bar(department[\"dept_name\"],department[\"count_retiring\"])\n",
    "ax.bar(department[\"dept_name\"],department[\"count_mentor\"])\n",
    "\n",
    "ax.legend([\"Retiring\",\"Mentors_Elgible\"])\n",
    "ax.set_title(\"Retiring Employees and Mentors_Elgible\",fontsize=20)\n",
    "plt.savefig(\"Retiring Employees and Mentors_Elgible\")"
   ]
  }
 ],
 "metadata": {
  "kernelspec": {
   "display_name": "Python 3",
   "language": "python",
   "name": "python3"
  },
  "language_info": {
   "codemirror_mode": {
    "name": "ipython",
    "version": 3
   },
   "file_extension": ".py",
   "mimetype": "text/x-python",
   "name": "python",
   "nbconvert_exporter": "python",
   "pygments_lexer": "ipython3",
   "version": "3.7.7"
  }
 },
 "nbformat": 4,
 "nbformat_minor": 4
}
